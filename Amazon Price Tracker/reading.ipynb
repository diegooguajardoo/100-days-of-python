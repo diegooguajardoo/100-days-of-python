{
 "cells": [
  {
   "cell_type": "code",
   "execution_count": 9,
   "metadata": {},
   "outputs": [
    {
     "name": "stdout",
     "output_type": "stream",
     "text": [
      "<_csv.reader object at 0x11f4d45f0>\n"
     ]
    }
   ],
   "source": [
    "import pandas as pd\n",
    "import urllib3\n",
    "import csv\n",
    "import requests\n",
    "http = urllib3.PoolManager()\n",
    "url = \"https://github.com/diegooguajardoo/day25-readingcsv/blob/master/squirrel_count.csv\"\n",
    "\n",
    "r = requests.get(url)\n",
    "text = r.iter_lines()\n",
    "reader = csv.reader(text, delimiter=',')\n",
    "print(reader.)\n"
   ]
  }
 ],
 "metadata": {
  "kernelspec": {
   "display_name": "Python 3",
   "language": "python",
   "name": "python3"
  },
  "language_info": {
   "codemirror_mode": {
    "name": "ipython",
    "version": 3
   },
   "file_extension": ".py",
   "mimetype": "text/x-python",
   "name": "python",
   "nbconvert_exporter": "python",
   "pygments_lexer": "ipython3",
   "version": "3.10.1"
  },
  "orig_nbformat": 4
 },
 "nbformat": 4,
 "nbformat_minor": 2
}
