{
 "cells": [
  {
   "cell_type": "code",
   "execution_count": 1,
   "metadata": {},
   "outputs": [],
   "source": [
    "import pandas as pd\n",
    "\n",
    "file = \"/Users/diegoo.guajardoo/Documents/VS Code Studio/Data/Databases/movimientos fintonic marzo 2019 - junio 2022.csv\"\n"
   ]
  },
  {
   "cell_type": "code",
   "execution_count": 2,
   "metadata": {
    "tags": []
   },
   "outputs": [],
   "source": [
    "df = pd.read_csv(file)\n"
   ]
  },
  {
   "cell_type": "code",
   "execution_count": 3,
   "metadata": {},
   "outputs": [
    {
     "data": {
      "text/plain": [
       "Index(['Fecha valor', 'Fecha de operación', 'Importe', 'Moneda', 'Concepto',\n",
       "       'Entidad', 'Nombre de producto', 'Tipo de producto',\n",
       "       'Tipo de movimiento', 'Categoría', 'Nota'],\n",
       "      dtype='object')"
      ]
     },
     "execution_count": 3,
     "metadata": {},
     "output_type": "execute_result"
    }
   ],
   "source": [
    "df.columns"
   ]
  },
  {
   "cell_type": "code",
   "execution_count": 4,
   "metadata": {},
   "outputs": [
    {
     "data": {
      "text/plain": [
       "Fecha valor           datetime64[ns]\n",
       "Fecha de operación    datetime64[ns]\n",
       "Importe                       object\n",
       "Moneda                        object\n",
       "Concepto                      object\n",
       "Entidad                       object\n",
       "Nombre de producto            object\n",
       "Tipo de producto              object\n",
       "Tipo de movimiento            object\n",
       "Categoría                     object\n",
       "Nota                          object\n",
       "dtype: object"
      ]
     },
     "execution_count": 4,
     "metadata": {},
     "output_type": "execute_result"
    }
   ],
   "source": [
    "df[\"Fecha valor\"] = pd.to_datetime(df[\"Fecha valor\"], format=\"%d/%m/%y\", exact=True)\n",
    "df[\"Fecha de operación\"] = pd.to_datetime(\n",
    "    df[\"Fecha de operación\"], format=\"%d/%m/%y\", exact= True)\n",
    "df.dtypes"
   ]
  },
  {
   "cell_type": "code",
   "execution_count": 5,
   "metadata": {},
   "outputs": [
    {
     "data": {
      "text/plain": [
       "dtype('float64')"
      ]
     },
     "execution_count": 5,
     "metadata": {},
     "output_type": "execute_result"
    }
   ],
   "source": [
    "df[\"Importe\"] = df[\"Importe\"].str.replace(\",\",\"\")\n",
    "df[\"Importe\"] = pd.to_numeric(df[\"Importe\"])\n",
    "df[\"Importe\"].dtype\n"
   ]
  },
  {
   "cell_type": "code",
   "execution_count": 19,
   "metadata": {},
   "outputs": [
    {
     "data": {
      "text/html": [
       "<div>\n",
       "<style scoped>\n",
       "    .dataframe tbody tr th:only-of-type {\n",
       "        vertical-align: middle;\n",
       "    }\n",
       "\n",
       "    .dataframe tbody tr th {\n",
       "        vertical-align: top;\n",
       "    }\n",
       "\n",
       "    .dataframe thead th {\n",
       "        text-align: right;\n",
       "    }\n",
       "</style>\n",
       "<table border=\"1\" class=\"dataframe\">\n",
       "  <thead>\n",
       "    <tr style=\"text-align: right;\">\n",
       "      <th></th>\n",
       "      <th>Fecha valor</th>\n",
       "      <th>Fecha de operación</th>\n",
       "      <th>Importe</th>\n",
       "      <th>Moneda</th>\n",
       "      <th>Concepto</th>\n",
       "      <th>Entidad</th>\n",
       "      <th>Nombre de producto</th>\n",
       "      <th>Tipo de producto</th>\n",
       "      <th>Tipo de movimiento</th>\n",
       "      <th>Categoría</th>\n",
       "      <th>Nota</th>\n",
       "    </tr>\n",
       "  </thead>\n",
       "  <tbody>\n",
       "    <tr>\n",
       "      <th>0</th>\n",
       "      <td>2022-06-21</td>\n",
       "      <td>2022-06-21</td>\n",
       "      <td>400.0</td>\n",
       "      <td>MXN</td>\n",
       "      <td>Abono transferencia enlace</td>\n",
       "      <td>Santander México</td>\n",
       "      <td>SUPER NOMINA</td>\n",
       "      <td>Cuenta</td>\n",
       "      <td>Ingreso</td>\n",
       "      <td>Transferencias</td>\n",
       "      <td>Tenis papa</td>\n",
       "    </tr>\n",
       "    <tr>\n",
       "      <th>1</th>\n",
       "      <td>2022-06-21</td>\n",
       "      <td>2022-06-21</td>\n",
       "      <td>400.0</td>\n",
       "      <td>MXN</td>\n",
       "      <td>Abono transferencia spei</td>\n",
       "      <td>Santander México</td>\n",
       "      <td>SUPER NOMINA</td>\n",
       "      <td>Cuenta</td>\n",
       "      <td>Ingreso</td>\n",
       "      <td>Transferencias</td>\n",
       "      <td>Regalo papa</td>\n",
       "    </tr>\n",
       "    <tr>\n",
       "      <th>2</th>\n",
       "      <td>2022-06-21</td>\n",
       "      <td>2022-06-21</td>\n",
       "      <td>18000.0</td>\n",
       "      <td>MXN</td>\n",
       "      <td>Abono transferencia spei</td>\n",
       "      <td>Santander México</td>\n",
       "      <td>SUPER NOMINA</td>\n",
       "      <td>Cuenta</td>\n",
       "      <td>Ingreso</td>\n",
       "      <td>Renta</td>\n",
       "      <td>Renta junio</td>\n",
       "    </tr>\n",
       "    <tr>\n",
       "      <th>3</th>\n",
       "      <td>2022-06-21</td>\n",
       "      <td>2022-06-21</td>\n",
       "      <td>-5590.0</td>\n",
       "      <td>MXN</td>\n",
       "      <td>Pago transferencia spei</td>\n",
       "      <td>Santander México</td>\n",
       "      <td>SUPER NOMINA</td>\n",
       "      <td>Cuenta</td>\n",
       "      <td>Gasto</td>\n",
       "      <td>Transferencias</td>\n",
       "      <td>Depa</td>\n",
       "    </tr>\n",
       "    <tr>\n",
       "      <th>4</th>\n",
       "      <td>2022-06-21</td>\n",
       "      <td>2022-06-21</td>\n",
       "      <td>5590.0</td>\n",
       "      <td>MXN</td>\n",
       "      <td>Retiro mis metas</td>\n",
       "      <td>Santander México</td>\n",
       "      <td>SUPER NOMINA</td>\n",
       "      <td>Cuenta</td>\n",
       "      <td>No computable</td>\n",
       "      <td>Inversiones</td>\n",
       "      <td>Retiro mis metas</td>\n",
       "    </tr>\n",
       "  </tbody>\n",
       "</table>\n",
       "</div>"
      ],
      "text/plain": [
       "  Fecha valor Fecha de operación  Importe Moneda                    Concepto  \\\n",
       "0  2022-06-21         2022-06-21    400.0    MXN  Abono transferencia enlace   \n",
       "1  2022-06-21         2022-06-21    400.0    MXN    Abono transferencia spei   \n",
       "2  2022-06-21         2022-06-21  18000.0    MXN    Abono transferencia spei   \n",
       "3  2022-06-21         2022-06-21  -5590.0    MXN     Pago transferencia spei   \n",
       "4  2022-06-21         2022-06-21   5590.0    MXN            Retiro mis metas   \n",
       "\n",
       "            Entidad Nombre de producto Tipo de producto Tipo de movimiento  \\\n",
       "0  Santander México       SUPER NOMINA           Cuenta            Ingreso   \n",
       "1  Santander México       SUPER NOMINA           Cuenta            Ingreso   \n",
       "2  Santander México       SUPER NOMINA           Cuenta            Ingreso   \n",
       "3  Santander México       SUPER NOMINA           Cuenta              Gasto   \n",
       "4  Santander México       SUPER NOMINA           Cuenta      No computable   \n",
       "\n",
       "        Categoría              Nota  \n",
       "0  Transferencias        Tenis papa  \n",
       "1  Transferencias       Regalo papa  \n",
       "2           Renta       Renta junio  \n",
       "3  Transferencias              Depa  \n",
       "4     Inversiones  Retiro mis metas  "
      ]
     },
     "execution_count": 19,
     "metadata": {},
     "output_type": "execute_result"
    }
   ],
   "source": [
    "nomina = df[df[\"Nombre de producto\"] == \"SUPER NOMINA\"]\n",
    "aeromexico = df[df[\"Nombre de producto\"] == \"AEROMEXICO BLANCA\"]\n",
    "zero = df[df[\"Nombre de producto\"] == \"SANTANDER ZERO\"]\n",
    "nomina.head(5)"
   ]
  },
  {
   "cell_type": "markdown",
   "metadata": {},
   "source": [
    "Quitar el SettingWithCopyWarning"
   ]
  },
  {
   "cell_type": "code",
   "execution_count": 24,
   "metadata": {},
   "outputs": [],
   "source": [
    "#poner saldo inicial en loc 0\n",
    "saldo_inicial = 203072.1\n",
    "orden = nomina.loc[::-1].reset_index(drop=True)\n",
    "orden[\"Saldo\"] = 0\n",
    "\n"
   ]
  },
  {
   "cell_type": "code",
   "execution_count": 29,
   "metadata": {},
   "outputs": [],
   "source": [
    "orden[\"Saldo\"] = (orden[\"Importe\"].cumsum()+saldo_inicial)"
   ]
  },
  {
   "cell_type": "code",
   "execution_count": null,
   "metadata": {},
   "outputs": [],
   "source": [
    "orden.to_csv(\"nomina.csv\")"
   ]
  },
  {
   "cell_type": "markdown",
   "metadata": {},
   "source": [
    "# Agrupar los importes por meses"
   ]
  },
  {
   "cell_type": "code",
   "execution_count": null,
   "metadata": {},
   "outputs": [],
   "source": [
    "orden[\"mes\"] = orden[\"Fecha valor\"].dt.month\n",
    "#orden[[\"Fecha valor\", \"Importe\"]].groupby(\"mes\").mean()\n",
    "orden\n"
   ]
  },
  {
   "cell_type": "code",
   "execution_count": 11,
   "metadata": {},
   "outputs": [],
   "source": [
    "#orden[\"Fecha valor\"].groupby(pd.Grouper(freq=\"M\"))"
   ]
  },
  {
   "cell_type": "code",
   "execution_count": null,
   "metadata": {},
   "outputs": [],
   "source": [
    "no_comp = orden[orden[\"Tipo de movimiento\"] != \"No computable\"]\n",
    "no_comp.plot.scatter(x=\"Fecha valor\", y=\"Importe\")"
   ]
  },
  {
   "cell_type": "code",
   "execution_count": null,
   "metadata": {},
   "outputs": [],
   "source": [
    "orden[\"Saldo\"].plot(figsize=(12,10))"
   ]
  },
  {
   "cell_type": "code",
   "execution_count": null,
   "metadata": {},
   "outputs": [],
   "source": [
    "gastos = nomina.loc[nomina[\"Importe\"] > 50000, [\"Concepto\", \"Nota\", \"Importe\"]]\n",
    "gastos\n"
   ]
  }
 ],
 "metadata": {
  "kernelspec": {
   "display_name": "Python 3.10.1 64-bit",
   "language": "python",
   "name": "python3"
  },
  "language_info": {
   "codemirror_mode": {
    "name": "ipython",
    "version": 3
   },
   "file_extension": ".py",
   "mimetype": "text/x-python",
   "name": "python",
   "nbconvert_exporter": "python",
   "pygments_lexer": "ipython3",
   "version": "3.10.1"
  },
  "orig_nbformat": 4,
  "vscode": {
   "interpreter": {
    "hash": "aee8b7b246df8f9039afb4144a1f6fd8d2ca17a180786b69acc140d282b71a49"
   }
  }
 },
 "nbformat": 4,
 "nbformat_minor": 2
}
